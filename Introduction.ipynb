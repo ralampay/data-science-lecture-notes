{
 "cells": [
  {
   "cell_type": "markdown",
   "id": "d60f1216",
   "metadata": {},
   "source": [
    "# Introduction\n",
    "\n",
    "This is an introduction python jupyter notebook. We will discuss the following:\n",
    "\n",
    "* Basic Python Fundamentals\n",
    "* Using Numpy\n",
    "* Using Pandas\n",
    "* Using Matplotlib"
   ]
  },
  {
   "cell_type": "code",
   "execution_count": 1,
   "id": "75fbc49b",
   "metadata": {},
   "outputs": [],
   "source": [
    "import numpy as np"
   ]
  },
  {
   "cell_type": "code",
   "execution_count": 2,
   "id": "be3a1910",
   "metadata": {},
   "outputs": [
    {
     "data": {
      "text/plain": [
       "(3,)"
      ]
     },
     "execution_count": 2,
     "metadata": {},
     "output_type": "execute_result"
    }
   ],
   "source": [
    "my_list = np.array([1, 2, 3])\n",
    "\n",
    "my_list.shape"
   ]
  },
  {
   "cell_type": "code",
   "execution_count": 3,
   "id": "ee05c538",
   "metadata": {},
   "outputs": [
    {
     "data": {
      "text/plain": [
       "array([[1, 2, 3]])"
      ]
     },
     "execution_count": 3,
     "metadata": {},
     "output_type": "execute_result"
    }
   ],
   "source": [
    "my_list.reshape((1, 3))"
   ]
  },
  {
   "cell_type": "code",
   "execution_count": 4,
   "id": "cb892e70",
   "metadata": {},
   "outputs": [
    {
     "data": {
      "text/plain": [
       "array([1, 2, 3])"
      ]
     },
     "execution_count": 4,
     "metadata": {},
     "output_type": "execute_result"
    }
   ],
   "source": [
    "my_list"
   ]
  },
  {
   "cell_type": "code",
   "execution_count": 5,
   "id": "c40975f8",
   "metadata": {},
   "outputs": [
    {
     "data": {
      "text/plain": [
       "dtype('int64')"
      ]
     },
     "execution_count": 5,
     "metadata": {},
     "output_type": "execute_result"
    }
   ],
   "source": [
    "my_list.dtype"
   ]
  },
  {
   "cell_type": "markdown",
   "id": "2f3efbc7",
   "metadata": {},
   "source": [
    "## Python Functions\n",
    "\n",
    "A function is essentially a subroutine that can perform some computation and optionally return a value.\n",
    "\n",
    "Syntax is as follows:\n",
    "\n",
    "```\n",
    "def [name_of_function](param1, param2, param3 ...):\n",
    "    # The body of the function should be indented relative to the function\n",
    "    \n",
    "    # Use return keyword to return a value\n",
    "    return 0\n",
    "```"
   ]
  },
  {
   "cell_type": "code",
   "execution_count": 6,
   "id": "265d64fa",
   "metadata": {},
   "outputs": [
    {
     "data": {
      "text/plain": [
       "6"
      ]
     },
     "execution_count": 6,
     "metadata": {},
     "output_type": "execute_result"
    }
   ],
   "source": [
    "def sum_of_array(arr):\n",
    "    ans = 0\n",
    "    for elem in arr:\n",
    "        ans = ans + elem\n",
    "        \n",
    "    return ans\n",
    "\n",
    "sum_of_array(my_list)"
   ]
  },
  {
   "cell_type": "markdown",
   "id": "aba14772",
   "metadata": {},
   "source": [
    "#### Exercise: Design a Function that returns the `trace` of a Matrix\n",
    "\n",
    "A matrix is a 2 dimensional array (let's assume for now that it's `n x n`). The `trace` is the sum of the diagonal of the matrix.\n",
    "\n",
    "Example of a 5 x 5 matrix:\n",
    "```\n",
    "matrix = [\n",
    "    [1, 2, 3, 4, 5],\n",
    "    [1, 2, 3, 4, 5],\n",
    "    [1, 2, 3, 4, 5],\n",
    "    [1, 2, 3, 4, 5],\n",
    "    [1, 2, 3, 4, 5]\n",
    "]\n",
    "\n",
    "solution = my_trace(matrix)\n",
    "\n",
    "print(solution) # Answer should be 15\n",
    "```"
   ]
  },
  {
   "cell_type": "code",
   "execution_count": 7,
   "id": "5067dd3f",
   "metadata": {},
   "outputs": [
    {
     "data": {
      "text/plain": [
       "15"
      ]
     },
     "execution_count": 7,
     "metadata": {},
     "output_type": "execute_result"
    }
   ],
   "source": [
    "def my_trace(matrix):\n",
    "    array = np.array(matrix)\n",
    "    n = array.shape[0]\n",
    "    trace = 0\n",
    "    \n",
    "    for i in range(n):\n",
    "        trace += array[i,i]\n",
    "        \n",
    "    return trace\n",
    "\n",
    "matrix = [\n",
    "    [1, 2, 3, 4, 5],\n",
    "    [1, 2, 3, 4, 5],\n",
    "    [1, 2, 3, 4, 5],\n",
    "    [1, 2, 3, 4, 5],\n",
    "    [1, 2, 3, 4, 5]\n",
    "]\n",
    "\n",
    "my_trace(matrix)"
   ]
  },
  {
   "cell_type": "code",
   "execution_count": 9,
   "id": "447c569b",
   "metadata": {},
   "outputs": [
    {
     "data": {
      "text/plain": [
       "15"
      ]
     },
     "execution_count": 9,
     "metadata": {},
     "output_type": "execute_result"
    }
   ],
   "source": [
    "def my_trace(matrix):\n",
    "    ans = 0\n",
    "    \n",
    "    for idx, arr in enumerate(matrix):\n",
    "        ans = ans + arr[idx]\n",
    "        \n",
    "    return ans\n",
    "\n",
    "my_trace(matrix)\n",
    "        "
   ]
  },
  {
   "cell_type": "code",
   "execution_count": 10,
   "id": "18950443",
   "metadata": {},
   "outputs": [
    {
     "data": {
      "text/plain": [
       "15"
      ]
     },
     "execution_count": 10,
     "metadata": {},
     "output_type": "execute_result"
    }
   ],
   "source": [
    "def diag_check(array):\n",
    "    diag_sum = 0\n",
    "    \n",
    "    for i in range(len(array)):\n",
    "        diag_sum += array[i][i]\n",
    "    \n",
    "    return diag_sum\n",
    "\n",
    "diag_check(matrix)"
   ]
  },
  {
   "cell_type": "code",
   "execution_count": 11,
   "id": "04d58261",
   "metadata": {},
   "outputs": [
    {
     "data": {
      "text/plain": [
       "15"
      ]
     },
     "execution_count": 11,
     "metadata": {},
     "output_type": "execute_result"
    }
   ],
   "source": [
    "def my_trace(matrix):\n",
    "    mat = np.array(matrix)\n",
    "    \n",
    "    solution = 0\n",
    "    \n",
    "    for x in range(0, len(mat)):\n",
    "        solution = solution + mat[x][x]\n",
    "        \n",
    "    return solution\n",
    "\n",
    "my_trace(matrix)"
   ]
  },
  {
   "cell_type": "code",
   "execution_count": null,
   "id": "74d0e2a5",
   "metadata": {},
   "outputs": [],
   "source": []
  }
 ],
 "metadata": {
  "kernelspec": {
   "display_name": "Python 3 (ipykernel)",
   "language": "python",
   "name": "python3"
  },
  "language_info": {
   "codemirror_mode": {
    "name": "ipython",
    "version": 3
   },
   "file_extension": ".py",
   "mimetype": "text/x-python",
   "name": "python",
   "nbconvert_exporter": "python",
   "pygments_lexer": "ipython3",
   "version": "3.10.6"
  }
 },
 "nbformat": 4,
 "nbformat_minor": 5
}
