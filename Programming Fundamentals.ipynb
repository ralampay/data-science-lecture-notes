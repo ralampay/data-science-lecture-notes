{
 "cells": [
  {
   "cell_type": "markdown",
   "id": "d59221b3",
   "metadata": {},
   "source": [
    "# Programming Fundamentals\n",
    "\n",
    "This notebook is about basic Python programming enough for us to work on Data Science projects. It covers the following:\n",
    "\n",
    "* Variables and Assignment\n",
    "* Arrays\n",
    "* Functions"
   ]
  },
  {
   "cell_type": "markdown",
   "id": "89b5d201",
   "metadata": {},
   "source": [
    "## Variables\n",
    "\n",
    "Variables are containers of data or information that holds value. Similar to math, it has two sides:\n",
    "\n",
    "1. Assignment (Left hand side)\n",
    "2. Value (Right hand side)\n",
    "\n",
    "Example:\n",
    "\n",
    "```\n",
    "x = 5\n",
    "```\n",
    "\n",
    "* `x`: the variable that is assigned the value `5`\n",
    "* `5`: the value to be assigned to `x`"
   ]
  },
  {
   "cell_type": "code",
   "execution_count": 1,
   "id": "69ff1ec6",
   "metadata": {},
   "outputs": [
    {
     "name": "stdout",
     "output_type": "stream",
     "text": [
      "5\n",
      "4\n"
     ]
    }
   ],
   "source": [
    "x = 5\n",
    "y = 4\n",
    "\n",
    "print(x)\n",
    "print(y)"
   ]
  },
  {
   "cell_type": "markdown",
   "id": "9d800fa4",
   "metadata": {},
   "source": [
    "### Data Types\n",
    "\n",
    "Data types provide the type of information of a particular value. This is important because it allows us to know how to process a particular type of information. For example, if we know that a variable is an `integer` then we know we can perform mathematical arithmetic against it. Basic data types are:\n",
    "\n",
    "* **Integer**: a whole number\n",
    "* **Float**: a decimal number\n",
    "* **String**: a set of characters enclosed in either single quotes (`'`) or double quotes (`\"`)\n",
    "* **Boolean**: a value that is either `True` or `False`\n",
    "* **Objects**: anything that has state and/or behavior"
   ]
  },
  {
   "cell_type": "code",
   "execution_count": 2,
   "id": "be1868a9",
   "metadata": {},
   "outputs": [
    {
     "name": "stdout",
     "output_type": "stream",
     "text": [
      "5\n",
      "5.1\n",
      "Hello world!\n",
      "True\n"
     ]
    }
   ],
   "source": [
    "variable_1 = 5              # Integer or whole number\n",
    "variable_2 = 5.1            # Float or decimal number\n",
    "variable_3 = \"Hello world!\" # String or text or set of characters\n",
    "variable_4 = True           # either True or False\n",
    "\n",
    "print(variable_1)\n",
    "print(variable_2)\n",
    "print(variable_3)\n",
    "print(variable_4)"
   ]
  },
  {
   "cell_type": "code",
   "execution_count": 3,
   "id": "0d3c1326",
   "metadata": {},
   "outputs": [
    {
     "name": "stdout",
     "output_type": "stream",
     "text": [
      "10.1\n"
     ]
    }
   ],
   "source": [
    "# What happens when we add variable_1 and variable_2 and store in variable_answer:\n",
    "variable_answer = variable_1 + variable_2\n",
    "print(variable_answer)"
   ]
  },
  {
   "cell_type": "code",
   "execution_count": 4,
   "id": "74c7644e",
   "metadata": {},
   "outputs": [
    {
     "data": {
      "text/plain": [
       "'Hello world!5'"
      ]
     },
     "execution_count": 4,
     "metadata": {},
     "output_type": "execute_result"
    }
   ],
   "source": [
    "# What happens when we add variable_3 (which is a string) with variable_1 and store to variable_answer\n",
    "# By default, variable_3 + variable_1 is not possible because:\n",
    "#   - variable_3 is a string\n",
    "#   - variable_1 is an integer\n",
    "# However, we can concatenate two strings together. One way is to use\n",
    "# \"{} with some string\".format(\"value for {}\")\n",
    "variable_answer = \"{}{}\".format(variable_3, variable_1)\n",
    "\n",
    "variable_answer"
   ]
  },
  {
   "cell_type": "code",
   "execution_count": 5,
   "id": "51fae4dd",
   "metadata": {},
   "outputs": [
    {
     "data": {
      "text/plain": [
       "'Hello world! -- 5.1 + True = 5'"
      ]
     },
     "execution_count": 5,
     "metadata": {},
     "output_type": "execute_result"
    }
   ],
   "source": [
    "\"{} -- {} + {} = {}\".format(variable_3, variable_2, variable_4, variable_1)"
   ]
  },
  {
   "cell_type": "markdown",
   "id": "e0f8d1f2",
   "metadata": {},
   "source": [
    "## Arrays\n",
    "\n",
    "A container of multiple values. It is represented by a pair of brackets `[]`.\n",
    "\n",
    "### Example 1: An array of integers\n",
    "\n",
    "```\n",
    "array_of_integers = [4, 5, 6]\n",
    "```\n",
    "\n",
    "### Example 2: An array of float values\n",
    "\n",
    "```\n",
    "array_of_floats = [0.1, 0.5, 0.6]\n",
    "```\n",
    "\n",
    "### Example 3: An array of strings\n",
    "\n",
    "```\n",
    "array_of_strings = [\"World 1\", \"Word 2\", \"Word 3\"]\n",
    "```\n",
    "\n",
    "**NOTE**: Arrays are heterogeneous (they can hold multiple values of different types).\n",
    "\n",
    "### Example 4: An array of integers with strings\n",
    "\n",
    "```\n",
    "complex_array = [5, \"Hello\", 6, \"World\"]\n",
    "```\n",
    "\n",
    "### Example 5: An array of floats and strings\n",
    "\n",
    "```\n",
    "another_complex_array = [0.1, 0.5, 0.8, \"Person\"]\n",
    "```\n",
    "\n",
    "#### Accessing Elements of an Array is given by its `index` (numerical position starting with `0` of an array)\n",
    "\n",
    "### Example 6: The value `2` is in position `1` of array `sample`\n",
    "\n",
    "```\n",
    "sample = [\"something else\", 2, \"end of array\"]\n",
    "print(sample[1])\n",
    "```"
   ]
  },
  {
   "cell_type": "code",
   "execution_count": 6,
   "id": "29101019",
   "metadata": {},
   "outputs": [
    {
     "name": "stdout",
     "output_type": "stream",
     "text": [
      "2\n"
     ]
    }
   ],
   "source": [
    "sample = [\"something else\", 2, \"end of array\"]\n",
    "print(sample[1])"
   ]
  },
  {
   "cell_type": "code",
   "execution_count": 7,
   "id": "2e9eef18",
   "metadata": {},
   "outputs": [
    {
     "name": "stdout",
     "output_type": "stream",
     "text": [
      "2\n"
     ]
    }
   ],
   "source": [
    "exercise_array = [5, 9, 12, 13, 2]\n",
    "\n",
    "print(exercise_array[4])"
   ]
  },
  {
   "cell_type": "markdown",
   "id": "d7c05af1",
   "metadata": {},
   "source": [
    "#### Arrays can also be a value inside another array\n",
    "\n",
    "### Example 7: Array in an Array\n",
    "\n",
    "```\n",
    "sample = [\n",
    "  [1, 2, 3],\n",
    "  [4, 5, 6],\n",
    "  [7, 8, 9]\n",
    "]\n",
    "\n",
    "# Print out the value 5\n",
    "sample[1][1]\n",
    "```"
   ]
  },
  {
   "cell_type": "code",
   "execution_count": 8,
   "id": "8fadc5d4",
   "metadata": {},
   "outputs": [
    {
     "data": {
      "text/plain": [
       "1"
      ]
     },
     "execution_count": 8,
     "metadata": {},
     "output_type": "execute_result"
    }
   ],
   "source": [
    "sample = [\n",
    "    [6, 7, 8],\n",
    "    [9, 2, 1],\n",
    "    [10, 12, 13]\n",
    "]\n",
    "\n",
    "# Print the value 1\n",
    "sample[1][2]"
   ]
  },
  {
   "cell_type": "code",
   "execution_count": 9,
   "id": "514e5dca",
   "metadata": {},
   "outputs": [
    {
     "data": {
      "text/plain": [
       "10"
      ]
     },
     "execution_count": 9,
     "metadata": {},
     "output_type": "execute_result"
    }
   ],
   "source": [
    "# Exercise 1: Print out the value 10\n",
    "input_array = [\n",
    "    [3, 7, 10],\n",
    "    [9, 20, 1],\n",
    "    [126, 12, 13]\n",
    "]\n",
    "\n",
    "input_array[0][2]"
   ]
  },
  {
   "cell_type": "code",
   "execution_count": 10,
   "id": "f0fbe072",
   "metadata": {},
   "outputs": [
    {
     "name": "stdout",
     "output_type": "stream",
     "text": [
      "10\n"
     ]
    }
   ],
   "source": [
    "# Exercise 2: Print out the value 10\n",
    "\n",
    "input_array = [\n",
    "    [3, 7, 4],\n",
    "    [9, 20, 1],\n",
    "    [126, [[9, 8, 7], [10, 11, 12]], 13]\n",
    "]\n",
    "print(input_array[2][1][1][0])"
   ]
  },
  {
   "cell_type": "code",
   "execution_count": 11,
   "id": "cd55b185",
   "metadata": {},
   "outputs": [
    {
     "data": {
      "text/plain": [
       "10"
      ]
     },
     "execution_count": 11,
     "metadata": {},
     "output_type": "execute_result"
    }
   ],
   "source": [
    "# Exercise 3: Print out the value 10\n",
    "\n",
    "input_array = [\n",
    "    [3, 7, 4],\n",
    "    [9, [20, [[9, 10, 2]],], 1],\n",
    "    [126, [[9, 8, 7], [1, 11, 12]], 13]\n",
    "]\n",
    "\n",
    "input_array [1][1][1][0][1]"
   ]
  },
  {
   "cell_type": "code",
   "execution_count": 12,
   "id": "2a564bf1",
   "metadata": {},
   "outputs": [
    {
     "data": {
      "text/plain": [
       "10"
      ]
     },
     "execution_count": 12,
     "metadata": {},
     "output_type": "execute_result"
    }
   ],
   "source": [
    "# Exercise 4: Print out the value 10\n",
    "\n",
    "input_array = [\n",
    "    [3, 7, 4],\n",
    "    [9, [20, [[9, 13, 2]],], 1],\n",
    "    [126, [[9, 8, 7], [1, 11, 12]], [0, [[], [], [[9, 3, 10, 11, 12]]]]]\n",
    "]\n",
    "\n",
    "input_array[2][2][1][2][0][2]"
   ]
  },
  {
   "cell_type": "code",
   "execution_count": 13,
   "id": "7b1f4966",
   "metadata": {},
   "outputs": [
    {
     "name": "stdout",
     "output_type": "stream",
     "text": [
      "10\n"
     ]
    }
   ],
   "source": [
    "# Exercise 5: Print out the value 10\n",
    "\n",
    "input_array = [\n",
    "    12, 13, 14, [[10], 2, 3, 4]\n",
    "]\n",
    "\n",
    "print(input_array[3][0][0])"
   ]
  },
  {
   "cell_type": "markdown",
   "id": "db643311",
   "metadata": {},
   "source": [
    "## Functions\n",
    "\n",
    "Functions are a set of lines that achieve a particular objective (it returns a value). It has 3 major parts:\n",
    "\n",
    "* Function name (we do this when we declare a function). In python we do so using the `def` keyword\n",
    "* Parameters of the function (what we feed the function in the form of values but designed as variables)\n",
    "* The logical part of the function (lines of code within a function that computes for the objective). In python, \"within\" means that it is indented relative to function declaration.\n",
    "\n",
    "We want a function to return a value by using the `return` keyword which should be part of the code block.\n",
    "\n",
    "To *invoke* a function means to call it after it has been defined.\n",
    "\n",
    "### Example: Create a Function that Adds 2 numbers together\n",
    "\n",
    "```\n",
    "def adder(num1, num2):\n",
    "    answer = num1 + num2\n",
    "    \n",
    "    return answer\n",
    "    \n",
    "solution = adder(5, 7)\n",
    "\n",
    "print(solution) # Answer should be 12\n",
    "```"
   ]
  },
  {
   "cell_type": "code",
   "execution_count": 14,
   "id": "ca2b7c23",
   "metadata": {},
   "outputs": [],
   "source": [
    "def adder(num1, num2):\n",
    "    answer = num1 + num2\n",
    "\n",
    "    return answer"
   ]
  },
  {
   "cell_type": "code",
   "execution_count": 15,
   "id": "10db76c0",
   "metadata": {},
   "outputs": [
    {
     "data": {
      "text/plain": [
       "12"
      ]
     },
     "execution_count": 15,
     "metadata": {},
     "output_type": "execute_result"
    }
   ],
   "source": [
    "solution = adder(5, 7)\n",
    "\n",
    "solution"
   ]
  },
  {
   "cell_type": "code",
   "execution_count": 16,
   "id": "d18df21d",
   "metadata": {},
   "outputs": [
    {
     "data": {
      "text/plain": [
       "8"
      ]
     },
     "execution_count": 16,
     "metadata": {},
     "output_type": "execute_result"
    }
   ],
   "source": [
    "another_one = adder(3, 5)\n",
    "\n",
    "another_one"
   ]
  },
  {
   "cell_type": "code",
   "execution_count": 17,
   "id": "7b711997",
   "metadata": {},
   "outputs": [],
   "source": [
    "# Accepts two arrays of size 3\n",
    "def add_two_3d_arrays(arr1, arr2):\n",
    "    answer1 = arr1[0] + arr2[0]\n",
    "    answer2 = arr1[1] + arr2[1]\n",
    "    answer3 = arr1[2] + arr2[2]\n",
    "    \n",
    "    answer = answer1 + answer2 + answer3\n",
    "    \n",
    "    return answer"
   ]
  },
  {
   "cell_type": "code",
   "execution_count": 18,
   "id": "167cead8",
   "metadata": {},
   "outputs": [
    {
     "data": {
      "text/plain": [
       "21"
      ]
     },
     "execution_count": 18,
     "metadata": {},
     "output_type": "execute_result"
    }
   ],
   "source": [
    "the_first_array = [1, 2, 3]\n",
    "the_second_array = [4, 5, 6]\n",
    "\n",
    "# Answer should be 21\n",
    "solution = add_two_3d_arrays(the_first_array, the_second_array)\n",
    "\n",
    "solution"
   ]
  },
  {
   "cell_type": "markdown",
   "id": "b4e3eacb",
   "metadata": {},
   "source": [
    "### Exercise: Design a Function that returns the `trace` of a Matrix\n",
    "\n",
    "A matrix is a 2 dimensional array (let's assume for now that it is `n by n`). The `trace` is the sum of the diagonal of the matrix.\n",
    "\n",
    "Example of a 5 by 5 matrix:\n",
    "\n",
    "```\n",
    "matrix = [\n",
    "    [1, 2, 3, 4, 5],\n",
    "    [1, 2, 3, 4, 5],\n",
    "    [1, 2, 3, 4, 5],\n",
    "    [1, 2, 3, 4, 5],\n",
    "    [1, 2, 3, 4, 5]\n",
    "]\n",
    "\n",
    "solution = my_trace_function(matrix)\n",
    "\n",
    "# Answer should be 15\n",
    "print(solution)\n",
    "```"
   ]
  },
  {
   "cell_type": "code",
   "execution_count": 19,
   "id": "b0507617",
   "metadata": {},
   "outputs": [],
   "source": [
    "def my_trace_function(matrix):\n",
    "    answer = matrix[0][0] + matrix[1][1] + matrix[2][2] + matrix[3][3] + matrix[4][4]\n",
    "    \n",
    "    return answer"
   ]
  },
  {
   "cell_type": "code",
   "execution_count": 20,
   "id": "72120337",
   "metadata": {},
   "outputs": [
    {
     "data": {
      "text/plain": [
       "15"
      ]
     },
     "execution_count": 20,
     "metadata": {},
     "output_type": "execute_result"
    }
   ],
   "source": [
    "matrix = [\n",
    "    [1, 2, 3, 4, 5],\n",
    "    [1, 2, 3, 4, 5],\n",
    "    [1, 2, 3, 4, 5],\n",
    "    [1, 2, 3, 4, 5],\n",
    "    [1, 2, 3, 4, 5]\n",
    "]\n",
    "\n",
    "solution = my_trace_function(matrix)\n",
    "\n",
    "solution"
   ]
  },
  {
   "cell_type": "markdown",
   "id": "2fd3a869",
   "metadata": {},
   "source": [
    "## Homework 1\n",
    "\n",
    "Create a function that computes for the **Euclidean Distance** of two 4 dimensional arrays. Example:\n",
    "\n",
    "```\n",
    "arr1 = [3, 2, 6, 1]\n",
    "arr2 = [4, 2, 3, 2]\n",
    "\n",
    "solution = euclidean(arr1, arr2)\n",
    "```"
   ]
  },
  {
   "cell_type": "code",
   "execution_count": 21,
   "id": "df47ddbf",
   "metadata": {},
   "outputs": [
    {
     "data": {
      "text/plain": [
       "3.3166247903554"
      ]
     },
     "execution_count": 21,
     "metadata": {},
     "output_type": "execute_result"
    }
   ],
   "source": [
    "import math\n",
    "\n",
    "def euclidean(arr1, arr2):\n",
    "    solution = 0\n",
    "    \n",
    "    solution = (arr1[0] - arr2[0]) ** 2\n",
    "    solution = solution + (arr1[1] - arr2[1]) ** 2\n",
    "    solution = solution + (arr1[2] - arr2[2]) ** 2\n",
    "    solution = solution + (arr1[3] - arr2[3]) ** 2\n",
    "    \n",
    "    solution = math.sqrt(solution)\n",
    "    \n",
    "    return solution\n",
    "\n",
    "arr1 = [3, 2, 6, 1]\n",
    "arr2 = [4, 2, 3, 2]\n",
    "euclidean(arr1, arr2)"
   ]
  },
  {
   "cell_type": "code",
   "execution_count": 22,
   "id": "82bfa5b1",
   "metadata": {},
   "outputs": [
    {
     "data": {
      "text/plain": [
       "3.3166247903554"
      ]
     },
     "execution_count": 22,
     "metadata": {},
     "output_type": "execute_result"
    }
   ],
   "source": [
    "def euclidean(arr1, arr2):\n",
    "    solution = 0\n",
    "    \n",
    "    len_of_array = len(arr1)\n",
    "    \n",
    "    for index in range(len_of_array):\n",
    "        solution = solution + (arr1[index] - arr2[index]) ** 2\n",
    "    \n",
    "    solution = math.sqrt(solution)\n",
    "    \n",
    "    return solution\n",
    "\n",
    "euclidean(arr1, arr2)"
   ]
  },
  {
   "cell_type": "markdown",
   "id": "15001a1f",
   "metadata": {},
   "source": [
    "## Homework 2\n",
    "\n",
    "Create a function that computes for the average of the sum of an array of arrays. Use `len(some_array)` to get the length of `some_array`. Example:\n",
    "\n",
    "```\n",
    "input_array = [\n",
    "    [1, 3, 5],\n",
    "    [2, 3, 6],\n",
    "    [9, 8, 5]\n",
    "]\n",
    "\n",
    "solution = average_of_arrays(input_array)\n",
    "```"
   ]
  },
  {
   "cell_type": "code",
   "execution_count": 24,
   "id": "3101368e",
   "metadata": {},
   "outputs": [
    {
     "data": {
      "text/plain": [
       "14.0"
      ]
     },
     "execution_count": 24,
     "metadata": {},
     "output_type": "execute_result"
    }
   ],
   "source": [
    "def average_of_array(input_array):\n",
    "    solution = 0\n",
    "    \n",
    "    for elem in input_array:\n",
    "        internal_sum = 0\n",
    "        for elem2 in elem:\n",
    "            internal_sum = internal_sum + elem2\n",
    "        \n",
    "        solution = solution + internal_sum\n",
    "        \n",
    "    solution = solution / len(input_array)\n",
    "        \n",
    "input_array = [\n",
    "    [1, 3, 5],\n",
    "    [2, 3, 6],\n",
    "    [9, 8, 5]\n",
    "]\n",
    "\n",
    "average_of_array(input_array)"
   ]
  },
  {
   "cell_type": "markdown",
   "id": "740e3f02",
   "metadata": {},
   "source": [
    "### Homework 3\n",
    "\n",
    "Create a function that computes for the standard deviation of the sum of the arrays. Example:\n",
    "\n",
    "```\n",
    "input_array = [\n",
    "    [1, 3, 5],\n",
    "    [2, 3, 6],\n",
    "    [9, 8, 5]\n",
    "]\n",
    "\n",
    "solution = stdev_of_arrays(input_array)\n",
    "```"
   ]
  },
  {
   "cell_type": "code",
   "execution_count": 27,
   "id": "59b5d2cf",
   "metadata": {},
   "outputs": [
    {
     "data": {
      "text/plain": [
       "5.715476066494082"
      ]
     },
     "execution_count": 27,
     "metadata": {},
     "output_type": "execute_result"
    }
   ],
   "source": [
    "def stdev_of_array(input_array):\n",
    "    solution = 0\n",
    "    \n",
    "    mean = 0\n",
    "    \n",
    "    summ = 0\n",
    "    for elem in input_array:\n",
    "        summ = summ + sum(elem)\n",
    "        \n",
    "    mean = summ / len(input_array)\n",
    "    \n",
    "    for elem in input_array:\n",
    "        solution = solution + (sum(elem) - mean)**2\n",
    "        \n",
    "    solution = solution / len(input_array)\n",
    "    \n",
    "    solution = math.sqrt(solution)\n",
    "    \n",
    "    return solution\n",
    "\n",
    "input_array = [\n",
    "    [1, 3, 5],\n",
    "    [2, 3, 6],\n",
    "    [9, 8, 5]\n",
    "]\n",
    "\n",
    "solution = stdev_of_array(input_array)\n",
    "\n",
    "solution"
   ]
  },
  {
   "cell_type": "code",
   "execution_count": null,
   "id": "3b59a24b",
   "metadata": {},
   "outputs": [],
   "source": []
  }
 ],
 "metadata": {
  "kernelspec": {
   "display_name": "Python 3 (ipykernel)",
   "language": "python",
   "name": "python3"
  },
  "language_info": {
   "codemirror_mode": {
    "name": "ipython",
    "version": 3
   },
   "file_extension": ".py",
   "mimetype": "text/x-python",
   "name": "python",
   "nbconvert_exporter": "python",
   "pygments_lexer": "ipython3",
   "version": "3.10.6"
  }
 },
 "nbformat": 4,
 "nbformat_minor": 5
}
